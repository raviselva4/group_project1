{
 "cells": [
  {
   "cell_type": "code",
   "execution_count": 1,
   "metadata": {},
   "outputs": [],
   "source": [
    "# Dependencies\n",
    "import numpy as np\n",
    "import pandas as pd\n",
    "import matplotlib.pyplot as plt\n",
    "import requests\n",
    "import os\n",
    "import csv\n",
    "from census import Census\n",
    "from us import states\n",
    "from pprint import pprint\n",
    "# Census API Key\n",
    "from config import api_key\n",
    "# c = Census(api_key, year=2000)\n",
    "# c = Census(api_key, year=2010)\n",
    "# census_data = c.acs5.get(('NAME', 'B25034_010E'),\n",
    "#                        {'for': 'state:{}'.format(states.MD.fips)})\n",
    "# census_data = c.sf1.get((\"NAME\", \"B19013_001E\", \"B01003_001E\", \"B01002_001E\",\n",
    "#                           \"B19301_001E\",\n",
    "#                           \"B17001_002E\",\n",
    "#                           \"B23025_005E\"), {'for': 'state:*'})\n",
    "#\n",
    "# P001001\tTotal population\n",
    "#"
   ]
  },
  {
   "cell_type": "code",
   "execution_count": 2,
   "metadata": {
    "scrolled": false
   },
   "outputs": [
    {
     "name": "stdout",
     "output_type": "stream",
     "text": [
      "3220\n"
     ]
    }
   ],
   "source": [
    "# https://api.census.gov/data.html\n",
    "# Pulling 2000 population from sf3 Census Summary file 3\n",
    "#\n",
    "base_url = \"https://api.census.gov/data/2000/sf3?\"\n",
    "query = f\"{base_url}get=P001001,NAME&for=county:*&key={api_key}\"\n",
    "resp = requests.get(query).json()\n",
    "print(len(resp))"
   ]
  },
  {
   "cell_type": "code",
   "execution_count": 3,
   "metadata": {},
   "outputs": [
    {
     "name": "stdout",
     "output_type": "stream",
     "text": [
      "3219\n"
     ]
    },
    {
     "data": {
      "text/html": [
       "<div>\n",
       "<style scoped>\n",
       "    .dataframe tbody tr th:only-of-type {\n",
       "        vertical-align: middle;\n",
       "    }\n",
       "\n",
       "    .dataframe tbody tr th {\n",
       "        vertical-align: top;\n",
       "    }\n",
       "\n",
       "    .dataframe thead th {\n",
       "        text-align: right;\n",
       "    }\n",
       "</style>\n",
       "<table border=\"1\" class=\"dataframe\">\n",
       "  <thead>\n",
       "    <tr style=\"text-align: right;\">\n",
       "      <th></th>\n",
       "      <th>Population</th>\n",
       "      <th>County Name</th>\n",
       "      <th>State Code</th>\n",
       "      <th>County Code</th>\n",
       "    </tr>\n",
       "  </thead>\n",
       "  <tbody>\n",
       "    <tr>\n",
       "      <th>1</th>\n",
       "      <td>43671</td>\n",
       "      <td>Autauga County</td>\n",
       "      <td>01</td>\n",
       "      <td>001</td>\n",
       "    </tr>\n",
       "    <tr>\n",
       "      <th>2</th>\n",
       "      <td>140415</td>\n",
       "      <td>Baldwin County</td>\n",
       "      <td>01</td>\n",
       "      <td>003</td>\n",
       "    </tr>\n",
       "    <tr>\n",
       "      <th>3</th>\n",
       "      <td>29038</td>\n",
       "      <td>Barbour County</td>\n",
       "      <td>01</td>\n",
       "      <td>005</td>\n",
       "    </tr>\n",
       "    <tr>\n",
       "      <th>4</th>\n",
       "      <td>20826</td>\n",
       "      <td>Bibb County</td>\n",
       "      <td>01</td>\n",
       "      <td>007</td>\n",
       "    </tr>\n",
       "    <tr>\n",
       "      <th>5</th>\n",
       "      <td>51024</td>\n",
       "      <td>Blount County</td>\n",
       "      <td>01</td>\n",
       "      <td>009</td>\n",
       "    </tr>\n",
       "  </tbody>\n",
       "</table>\n",
       "</div>"
      ],
      "text/plain": [
       "  Population     County Name State Code County Code\n",
       "1      43671  Autauga County         01         001\n",
       "2     140415  Baldwin County         01         003\n",
       "3      29038  Barbour County         01         005\n",
       "4      20826     Bibb County         01         007\n",
       "5      51024   Blount County         01         009"
      ]
     },
     "execution_count": 3,
     "metadata": {},
     "output_type": "execute_result"
    }
   ],
   "source": [
    "p2000_df = pd.DataFrame(resp, columns=['Population','County Name','State Code','County Code'])\n",
    "# To delete first row which have column names.\n",
    "pop2000_df = p2000_df.iloc[1:]\n",
    "print(len(pop2000_df))\n",
    "pop2000_df.head()"
   ]
  },
  {
   "cell_type": "code",
   "execution_count": 8,
   "metadata": {},
   "outputs": [],
   "source": [
    "pop2000_df.to_csv(r'../Resources/population_2000_api_data.csv', index=False, header=True)"
   ]
  },
  {
   "cell_type": "code",
   "execution_count": null,
   "metadata": {},
   "outputs": [],
   "source": [
    "# pprint(resp)"
   ]
  },
  {
   "cell_type": "code",
   "execution_count": null,
   "metadata": {},
   "outputs": [],
   "source": [
    "# r = pop2010_df.loc[result['County Name'] == 'Autauga County']\n",
    "# r"
   ]
  },
  {
   "cell_type": "code",
   "execution_count": 4,
   "metadata": {},
   "outputs": [
    {
     "name": "stdout",
     "output_type": "stream",
     "text": [
      "3222\n"
     ]
    }
   ],
   "source": [
    "# google search with census P001001\n",
    "# https://api.census.gov/data/2010/dec/sf1?get=P001001,NAME&for=county:*&key=YOUR_KEY_GOES_HERE\n",
    "# For the year 2010\n",
    "#\n",
    "base_url = \"https://api.census.gov/data/2010/dec/sf1?\"\n",
    "query = f\"{base_url}get=P001001,NAME&for=county:*&key={api_key}\"\n",
    "resp = requests.get(query).json()\n",
    "print(len(resp))"
   ]
  },
  {
   "cell_type": "code",
   "execution_count": null,
   "metadata": {
    "scrolled": false
   },
   "outputs": [],
   "source": [
    "# #     result = pd.DataFrame({\"Population\":resp[x][0],\n",
    "# #                            \"County\":cc[0],\n",
    "# #                            \"State\":cc[1],\n",
    "# #                            \"StateCode\":resp[x][2],\n",
    "# #                            \"CountyCode\":resp[x][3]\n",
    "# #                           })"
   ]
  },
  {
   "cell_type": "code",
   "execution_count": 6,
   "metadata": {},
   "outputs": [
    {
     "name": "stdout",
     "output_type": "stream",
     "text": [
      "3221\n"
     ]
    },
    {
     "data": {
      "text/html": [
       "<div>\n",
       "<style scoped>\n",
       "    .dataframe tbody tr th:only-of-type {\n",
       "        vertical-align: middle;\n",
       "    }\n",
       "\n",
       "    .dataframe tbody tr th {\n",
       "        vertical-align: top;\n",
       "    }\n",
       "\n",
       "    .dataframe thead th {\n",
       "        text-align: right;\n",
       "    }\n",
       "</style>\n",
       "<table border=\"1\" class=\"dataframe\">\n",
       "  <thead>\n",
       "    <tr style=\"text-align: right;\">\n",
       "      <th></th>\n",
       "      <th>Population</th>\n",
       "      <th>County Name</th>\n",
       "      <th>State</th>\n",
       "      <th>State Code</th>\n",
       "      <th>County Code</th>\n",
       "    </tr>\n",
       "  </thead>\n",
       "  <tbody>\n",
       "    <tr>\n",
       "      <th>0</th>\n",
       "      <td>125744</td>\n",
       "      <td>Sebastian County</td>\n",
       "      <td>Arkansas</td>\n",
       "      <td>05</td>\n",
       "      <td>131</td>\n",
       "    </tr>\n",
       "    <tr>\n",
       "      <th>1</th>\n",
       "      <td>17058</td>\n",
       "      <td>Sevier County</td>\n",
       "      <td>Arkansas</td>\n",
       "      <td>05</td>\n",
       "      <td>133</td>\n",
       "    </tr>\n",
       "    <tr>\n",
       "      <th>2</th>\n",
       "      <td>17264</td>\n",
       "      <td>Sharp County</td>\n",
       "      <td>Arkansas</td>\n",
       "      <td>05</td>\n",
       "      <td>135</td>\n",
       "    </tr>\n",
       "    <tr>\n",
       "      <th>3</th>\n",
       "      <td>12394</td>\n",
       "      <td>Stone County</td>\n",
       "      <td>Arkansas</td>\n",
       "      <td>05</td>\n",
       "      <td>137</td>\n",
       "    </tr>\n",
       "    <tr>\n",
       "      <th>4</th>\n",
       "      <td>41639</td>\n",
       "      <td>Union County</td>\n",
       "      <td>Arkansas</td>\n",
       "      <td>05</td>\n",
       "      <td>139</td>\n",
       "    </tr>\n",
       "  </tbody>\n",
       "</table>\n",
       "</div>"
      ],
      "text/plain": [
       "  Population       County Name      State State Code County Code\n",
       "0     125744  Sebastian County   Arkansas         05         131\n",
       "1      17058     Sevier County   Arkansas         05         133\n",
       "2      17264      Sharp County   Arkansas         05         135\n",
       "3      12394      Stone County   Arkansas         05         137\n",
       "4      41639      Union County   Arkansas         05         139"
      ]
     },
     "execution_count": 6,
     "metadata": {},
     "output_type": "execute_result"
    }
   ],
   "source": [
    "#  Cleaning the data by spliting the columns for 2010 census data...\n",
    "#\n",
    "col1 = []\n",
    "col2 = []\n",
    "col3 = []\n",
    "col4 = []\n",
    "col5 = []\n",
    "for x in range(len(resp)):\n",
    "    if x > 0:\n",
    "        col1.append(resp[x][0])\n",
    "        cc = str(resp[x][1]).split(\",\")\n",
    "        col2.append(cc[0])\n",
    "        col3.append(cc[1])\n",
    "        col4.append(resp[x][2])\n",
    "        col5.append(resp[x][3])\n",
    "result = list(zip(col1,col2,col3,col4,col5))\n",
    "pop2010_df = pd.DataFrame(result, columns=['Population','County Name','State','State Code','County Code'])\n",
    "print(len(pop2010_df))\n",
    "pop2010_df.head()"
   ]
  },
  {
   "cell_type": "code",
   "execution_count": 7,
   "metadata": {},
   "outputs": [],
   "source": [
    "pop2010_df.to_csv(r'../Resources/population_2010_api_data.csv', index=False, header=True)"
   ]
  },
  {
   "cell_type": "code",
   "execution_count": null,
   "metadata": {},
   "outputs": [],
   "source": [
    "# pprint(resp)"
   ]
  },
  {
   "cell_type": "code",
   "execution_count": null,
   "metadata": {},
   "outputs": [],
   "source": [
    "# # https://api.census.gov/data/2005/acs/acs1/profile?get=NAME,DP01_0001E&for=county:*&key=YOUR_KEY_GOES_HERE\n",
    "# #\n",
    "# # For the year 2005\n",
    "# #\n",
    "# base_url = \"https://api.census.gov/data/2005/acs/acs1/profile?\"\n",
    "# query = f\"{base_url}get=NAME,DP01_0001E&for=county:*&key={api_key}\"\n",
    "# resp = requests.get(query).json()\n",
    "# print(len(resp))\n",
    "# # It's bringing only 788 rows, ignoring this..."
   ]
  },
  {
   "cell_type": "code",
   "execution_count": null,
   "metadata": {},
   "outputs": [],
   "source": [
    "#  For the year 2004\n",
    "# https://api.census.gov/data/2008/acs/acs3?get=NAME,B00001_001E&for=county:*&in=state:*&key=YOUR_KEY_GOES_HERE\n",
    "# \n",
    "# these are samples"
   ]
  },
  {
   "cell_type": "code",
   "execution_count": null,
   "metadata": {},
   "outputs": [],
   "source": [
    "temp_df = pd.read_csv(\"../Resources/2000.csv\")\n",
    "temp_df"
   ]
  },
  {
   "cell_type": "code",
   "execution_count": null,
   "metadata": {},
   "outputs": [],
   "source": [
    "temp_df.columns = ['ghcnd_station_code','date','descr','value','col5','col6','unit','col7']\n",
    "temp_df.head()\n",
    "# temp_df[\"date\"].unique\n",
    "temp_df"
   ]
  },
  {
   "cell_type": "code",
   "execution_count": null,
   "metadata": {},
   "outputs": [],
   "source": []
  },
  {
   "cell_type": "code",
   "execution_count": null,
   "metadata": {},
   "outputs": [],
   "source": [
    "w2000_df = temp_df.loc[temp_df[\"date\"] == 20001106]\n",
    "w2000_df"
   ]
  },
  {
   "cell_type": "code",
   "execution_count": null,
   "metadata": {},
   "outputs": [],
   "source": [
    "ghcnd_df = pd.read_csv(\"../Resources/ghcnd-stations.csv\")\n",
    "ghcnd_df.columns = ['ghcnd_station_code', 'Lat', 'Lng', 'Elevation', 'Name','Flg', 'Wmoid']\n",
    "ghcnd_df['Name'] = ghcnd_df['Name'].str.strip()\n",
    "ghcnd_df['StName'] = ghcnd_df['Name'].str[:2]\n",
    "ghcnd_df"
   ]
  },
  {
   "cell_type": "code",
   "execution_count": null,
   "metadata": {},
   "outputs": [],
   "source": [
    "w2000 = pd.merge(w2000_df, ghcnd_df, on='ghcnd_station_code')\n",
    "w2000"
   ]
  },
  {
   "cell_type": "code",
   "execution_count": null,
   "metadata": {},
   "outputs": [],
   "source": [
    "weather_2000 = w2000[['date', 'descr', 'value', 'unit', 'Lat', 'Lng', 'StName', 'Name']]\n",
    "weather_2000"
   ]
  },
  {
   "cell_type": "code",
   "execution_count": null,
   "metadata": {},
   "outputs": [],
   "source": []
  },
  {
   "cell_type": "code",
   "execution_count": null,
   "metadata": {},
   "outputs": [],
   "source": []
  },
  {
   "cell_type": "code",
   "execution_count": null,
   "metadata": {},
   "outputs": [],
   "source": []
  },
  {
   "cell_type": "code",
   "execution_count": null,
   "metadata": {},
   "outputs": [],
   "source": []
  },
  {
   "cell_type": "code",
   "execution_count": null,
   "metadata": {},
   "outputs": [],
   "source": []
  },
  {
   "cell_type": "code",
   "execution_count": null,
   "metadata": {},
   "outputs": [],
   "source": [
    "# # Run Census Search to retrieve data on all zip codes (2013 ACS5 Census)\n",
    "# # See: https://github.com/CommerceDataService/census-wrapper for library documentation\n",
    "# # See: https://gist.github.com/afhaque/60558290d6efd892351c4b64e5c01e9b for labels\n",
    "\n",
    "# Convert to DataFrame\n",
    "census_pd = pd.DataFrame(census_data)\n",
    "\n",
    "# Column Reordering\n",
    "census_pd = census_pd.rename(columns={\"B25034_010E\": \"Population\",\n",
    "                                      \"B25034_010E\": \"Median Age\",\n",
    "                                      \"B25034_010E\": \"Household Income\",\n",
    "                                      \"B25034_010E\": \"Per Capita Income\",\n",
    "                                      \"B25034_010E\": \"Poverty Count\",\n",
    "                                      \"NAME\": \"Name\", \"zip code tabulation area\": \"Zipcode\"})\n",
    "\n",
    "# Add in Poverty Rate (Poverty Count / Population)\n",
    "census_pd[\"Poverty Rate\"] = 100 * \\\n",
    "    census_pd[\"Poverty Count\"].astype(\n",
    "        int) / census_pd[\"Population\"].astype(int)\n",
    "# Final DataFrame\n",
    "census_pd = census_pd[[\"Zipcode\", \"Population\", \"Median Age\", \"Household Income\",\n",
    "                       \"Per Capita Income\", \"Poverty Count\", \"Poverty Rate\"]]\n",
    "\n",
    "# Visualize\n",
    "print(len(census_pd))\n",
    "census_pd"
   ]
  },
  {
   "cell_type": "code",
   "execution_count": null,
   "metadata": {},
   "outputs": [],
   "source": [
    "# Save as a csv\n",
    "# Note to avoid any issues later, use encoding=\"utf-8\"\n",
    "# census_pd.to_csv(\"census_data.csv\", encoding=\"utf-8\", index=False)"
   ]
  }
 ],
 "metadata": {
  "anaconda-cloud": {},
  "kernelspec": {
   "display_name": "Python [conda env:PythonData] *",
   "language": "python",
   "name": "conda-env-PythonData-py"
  },
  "language_info": {
   "codemirror_mode": {
    "name": "ipython",
    "version": 3
   },
   "file_extension": ".py",
   "mimetype": "text/x-python",
   "name": "python",
   "nbconvert_exporter": "python",
   "pygments_lexer": "ipython3",
   "version": "3.6.10"
  },
  "latex_envs": {
   "LaTeX_envs_menu_present": true,
   "autoclose": false,
   "autocomplete": true,
   "bibliofile": "biblio.bib",
   "cite_by": "apalike",
   "current_citInitial": 1,
   "eqLabelWithNumbers": true,
   "eqNumInitial": 1,
   "hotkeys": {
    "equation": "Ctrl-E",
    "itemize": "Ctrl-I"
   },
   "labels_anchors": false,
   "latex_user_defs": false,
   "report_style_numbering": false,
   "user_envs_cfg": false
  }
 },
 "nbformat": 4,
 "nbformat_minor": 1
}
